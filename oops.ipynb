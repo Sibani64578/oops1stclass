{
 "cells": [
  {
   "attachments": {},
   "cell_type": "markdown",
   "metadata": {},
   "source": [
    "Qn.1>Explain Class and Object with respect to Object-Oriented Programming. Give a suitable example.\n",
    "ans>\n",
    "   class= class is just a classification of real world entitty even a blue print of a real world entity.\n",
    "   object=object are the instaces of a particular class every other element will be an object of same class such as string,dist.\n",
    "   "
   ]
  },
  {
   "cell_type": "code",
   "execution_count": 2,
   "metadata": {},
   "outputs": [],
   "source": [
    "class shibani:\n",
    "    def __init__(self,add,phone,name):\n",
    "        self.add=add\n",
    "        self.phone=phone\n",
    "        self.name=name\n",
    "    def return_my_details(self):\n",
    "        return self.phone,self.name,self.add\n"
   ]
  },
  {
   "cell_type": "code",
   "execution_count": 3,
   "metadata": {},
   "outputs": [],
   "source": [
    "guddu=shibani(\"radho\",7787098512,\"Shibanisankar nayak\")"
   ]
  },
  {
   "cell_type": "code",
   "execution_count": 4,
   "metadata": {},
   "outputs": [
    {
     "data": {
      "text/plain": [
       "(7787098512, 'Shibanisankar nayak', 'radho')"
      ]
     },
     "execution_count": 4,
     "metadata": {},
     "output_type": "execute_result"
    }
   ],
   "source": [
    "guddu.return_my_details()"
   ]
  },
  {
   "cell_type": "markdown",
   "metadata": {},
   "source": []
  },
  {
   "attachments": {},
   "cell_type": "markdown",
   "metadata": {},
   "source": [
    "QN2.Name the four pillars of OOPs.\n",
    "    ans.\n",
    "        encapsulation, abstraction, inheritance, and polymorphism. "
   ]
  },
  {
   "attachments": {},
   "cell_type": "markdown",
   "metadata": {},
   "source": [
    "Q3. Explain why the __init__() function is used. Give a suitable example.\n",
    "    ans.\n",
    "        init is a inblide function of class that used to pass data in class.it is a constructer"
   ]
  },
  {
   "cell_type": "code",
   "execution_count": 5,
   "metadata": {},
   "outputs": [],
   "source": [
    "class shibani:\n",
    "    def __init__(self,add,phone,name):\n",
    "        self.add=add\n",
    "        self.phone=phone\n",
    "        self.name=name\n",
    "    def return_my_details(self):\n",
    "        return self.phone,self.name,self.add\n"
   ]
  },
  {
   "attachments": {},
   "cell_type": "markdown",
   "metadata": {},
   "source": [
    "Q4. Why self is used in OOPs?\n",
    "ans\n",
    "    in a class when we asses the variable in the function than we used self\n",
    "    or it is a pointer or refarance"
   ]
  },
  {
   "attachments": {},
   "cell_type": "markdown",
   "metadata": {},
   "source": [
    "\n",
    "Q5. What is inheritance? Give an example for each type of inheritance.\n",
    "ans\n",
    "    it allows us to define a class that inherits all the methors and properties form another class.\n",
    "    "
   ]
  },
  {
   "cell_type": "code",
   "execution_count": 6,
   "metadata": {},
   "outputs": [],
   "source": [
    "class class1:\n",
    "    def test_class(self):\n",
    "        return\"shibanisankar nayak\""
   ]
  },
  {
   "cell_type": "code",
   "execution_count": 8,
   "metadata": {},
   "outputs": [],
   "source": [
    "class classs_class1(class1):\n",
    "    pass"
   ]
  },
  {
   "cell_type": "code",
   "execution_count": 9,
   "metadata": {},
   "outputs": [],
   "source": [
    "classs_class1_obj=classs_class1\n"
   ]
  },
  {
   "cell_type": "code",
   "execution_count": 10,
   "metadata": {},
   "outputs": [
    {
     "ename": "TypeError",
     "evalue": "class1.test_class() missing 1 required positional argument: 'self'",
     "output_type": "error",
     "traceback": [
      "\u001b[1;31m---------------------------------------------------------------------------\u001b[0m",
      "\u001b[1;31mTypeError\u001b[0m                                 Traceback (most recent call last)",
      "Cell \u001b[1;32mIn[10], line 1\u001b[0m\n\u001b[1;32m----> 1\u001b[0m classs_class1_obj\u001b[39m.\u001b[39;49mtest_class()\n",
      "\u001b[1;31mTypeError\u001b[0m: class1.test_class() missing 1 required positional argument: 'self'"
     ]
    }
   ],
   "source": [
    "classs_class1_obj.test_class()"
   ]
  }
 ],
 "metadata": {
  "kernelspec": {
   "display_name": "Python 3",
   "language": "python",
   "name": "python3"
  },
  "language_info": {
   "codemirror_mode": {
    "name": "ipython",
    "version": 3
   },
   "file_extension": ".py",
   "mimetype": "text/x-python",
   "name": "python",
   "nbconvert_exporter": "python",
   "pygments_lexer": "ipython3",
   "version": "3.11.3"
  },
  "orig_nbformat": 4
 },
 "nbformat": 4,
 "nbformat_minor": 2
}
